{
 "cells": [
  {
   "cell_type": "code",
   "id": "initial_id",
   "metadata": {
    "collapsed": true,
    "ExecuteTime": {
     "end_time": "2025-04-22T14:49:29.131575Z",
     "start_time": "2025-04-22T14:49:29.096471Z"
    }
   },
   "source": [
    "import pandas as pd\n",
    "import numpy as np\n",
    "import seaborn as sns\n",
    "import matplotlib.pyplot as plt\n",
    "\n",
    "from sklearn.model_selection import train_test_split, StratifiedKFold, cross_val_score\n",
    "from sklearn.pipeline import Pipeline\n",
    "from sklearn.compose import ColumnTransformer\n",
    "from sklearn.preprocessing import StandardScaler, OneHotEncoder\n",
    "from sklearn.impute import SimpleImputer\n",
    "from sklearn.ensemble import RandomForestClassifier\n",
    "from sklearn.linear_model import LogisticRegression\n",
    "from sklearn.metrics import f1_score, classification_report, confusion_matrix"
   ],
   "outputs": [],
   "execution_count": 15
  },
  {
   "metadata": {
    "ExecuteTime": {
     "end_time": "2025-04-22T14:49:31.795914Z",
     "start_time": "2025-04-22T14:49:31.765709Z"
    }
   },
   "cell_type": "code",
   "source": [
    "train_df = pd.read_csv('train.csv')\n",
    "test_df = pd.read_csv('test.csv')"
   ],
   "id": "e24bddb2c13ea03d",
   "outputs": [],
   "execution_count": 16
  },
  {
   "metadata": {
    "ExecuteTime": {
     "end_time": "2025-04-22T14:49:35.727766Z",
     "start_time": "2025-04-22T14:49:35.684755Z"
    }
   },
   "cell_type": "code",
   "source": [
    "def process_time_intervals(df):\n",
    "    df = df.copy()\n",
    "\n",
    "    def parse_sleep_duration(x):\n",
    "        if pd.isna(x):\n",
    "            return np.nan\n",
    "        x = str(x).lower()\n",
    "        if '-' in x:\n",
    "            parts = [int(s) for s in x.replace('hours', '').strip().split('-') if s.strip().isdigit()]\n",
    "            return np.mean(parts) if parts else np.nan\n",
    "        elif 'less than' in x:\n",
    "            return 4.5\n",
    "        elif 'more than' in x:\n",
    "            return 9.5\n",
    "        elif x.replace('hours', '').strip().isdigit():\n",
    "            return float(x.replace('hours', '').strip())\n",
    "        return np.nan\n",
    "\n",
    "    def parse_work_study(x):\n",
    "        try:\n",
    "            return float(x)\n",
    "        except:\n",
    "            return np.nan\n",
    "\n",
    "    df['Sleep Duration'] = df['Sleep Duration'].apply(parse_sleep_duration)\n",
    "    df['Work/Study Hours'] = df['Work/Study Hours'].apply(parse_work_study)\n",
    "\n",
    "    return df\n",
    "\n",
    "# Apply processing\n",
    "train_df = process_time_intervals(train_df)\n",
    "test_df = process_time_intervals(test_df)\n",
    "\n",
    "# Drop unused columns\n",
    "X_train = train_df.drop(columns=['Depression', 'Name', 'id'])\n",
    "y_train = train_df['Depression']\n",
    "X_test = test_df.drop(columns=['Name', 'id'])"
   ],
   "id": "ce7aff4c3fb976dc",
   "outputs": [],
   "execution_count": 17
  },
  {
   "metadata": {
    "ExecuteTime": {
     "end_time": "2025-04-22T14:49:41.586912Z",
     "start_time": "2025-04-22T14:49:41.580383Z"
    }
   },
   "cell_type": "code",
   "source": [
    "numeric_features = [\n",
    "    'Age', 'CGPA', 'Sleep Duration', 'Work/Study Hours',\n",
    "    'Academic Pressure', 'Work Pressure', 'Financial Stress',\n",
    "    'Study Satisfaction', 'Job Satisfaction'\n",
    "]\n",
    "\n",
    "categorical_features = [\n",
    "    'Gender', 'City', 'Working Professional or Student',\n",
    "    'Profession', 'Dietary Habits', 'Degree',\n",
    "    'Have you ever had suicidal thoughts ?',\n",
    "    'Family History of Mental Illness'\n",
    "]"
   ],
   "id": "85943ba22aafbccc",
   "outputs": [],
   "execution_count": 18
  },
  {
   "metadata": {
    "ExecuteTime": {
     "end_time": "2025-04-22T14:49:44.278237Z",
     "start_time": "2025-04-22T14:49:44.270735Z"
    }
   },
   "cell_type": "code",
   "source": [
    "numeric_transformer = Pipeline(steps=[\n",
    "    ('imputer', SimpleImputer(strategy='median')),\n",
    "    ('scaler', StandardScaler())\n",
    "])\n",
    "\n",
    "categorical_transformer = Pipeline(steps=[\n",
    "    ('imputer', SimpleImputer(strategy='most_frequent')),\n",
    "    ('onehot', OneHotEncoder(handle_unknown='ignore', sparse_output=False))\n",
    "])\n",
    "\n",
    "preprocessor = ColumnTransformer(\n",
    "    transformers=[\n",
    "        ('num', numeric_transformer, numeric_features),\n",
    "        ('cat', categorical_transformer, categorical_features)\n",
    "    ])\n"
   ],
   "id": "b7a60b4489048164",
   "outputs": [],
   "execution_count": 19
  },
  {
   "metadata": {
    "ExecuteTime": {
     "end_time": "2025-04-22T14:49:47.087273Z",
     "start_time": "2025-04-22T14:49:47.075837Z"
    }
   },
   "cell_type": "code",
   "source": [
    "model = Pipeline(steps=[\n",
    "    ('preprocessor', preprocessor),\n",
    "    ('classifier', RandomForestClassifier(\n",
    "        n_estimators=200,\n",
    "        class_weight='balanced',\n",
    "        random_state=42))\n",
    "])\n"
   ],
   "id": "d1d72d87e4729bf3",
   "outputs": [],
   "execution_count": 20
  },
  {
   "metadata": {
    "ExecuteTime": {
     "end_time": "2025-04-22T14:49:57.579337Z",
     "start_time": "2025-04-22T14:49:54.692015Z"
    }
   },
   "cell_type": "code",
   "source": [
    "cv = StratifiedKFold(n_splits=5, shuffle=True, random_state=42)\n",
    "scores = cross_val_score(model, X_train, y_train, scoring='f1', cv=cv)\n",
    "print(f\"F1 scores (CV): {scores}\")\n",
    "print(f\"Average F1: {np.mean(scores):.4f}\")"
   ],
   "id": "551deaa789fc85d8",
   "outputs": [
    {
     "name": "stdout",
     "output_type": "stream",
     "text": [
      "F1 scores (CV): [0.73214286 0.81967213 0.68965517 0.73684211 0.8       ]\n",
      "Average F1: 0.7557\n"
     ]
    }
   ],
   "execution_count": 21
  },
  {
   "metadata": {
    "ExecuteTime": {
     "end_time": "2025-04-22T14:50:04.993824Z",
     "start_time": "2025-04-22T14:50:04.233637Z"
    }
   },
   "cell_type": "code",
   "source": [
    "model.fit(X_train, y_train)\n",
    "test_pred = model.predict(X_test)\n",
    "submission = pd.DataFrame({\n",
    "    'id': test_df['id'],\n",
    "    'Depression': test_pred\n",
    "})\n",
    "submission.to_csv('submission.csv', index=False)\n",
    "print(\"Submission file created.\")"
   ],
   "id": "ad8d4fa14af6d415",
   "outputs": [
    {
     "name": "stdout",
     "output_type": "stream",
     "text": [
      "Submission file created.\n"
     ]
    }
   ],
   "execution_count": 22
  },
  {
   "metadata": {},
   "cell_type": "code",
   "outputs": [],
   "execution_count": null,
   "source": "",
   "id": "c6ab41ae88a3d030"
  }
 ],
 "metadata": {
  "kernelspec": {
   "display_name": "Python 3",
   "language": "python",
   "name": "python3"
  },
  "language_info": {
   "codemirror_mode": {
    "name": "ipython",
    "version": 2
   },
   "file_extension": ".py",
   "mimetype": "text/x-python",
   "name": "python",
   "nbconvert_exporter": "python",
   "pygments_lexer": "ipython2",
   "version": "2.7.6"
  }
 },
 "nbformat": 4,
 "nbformat_minor": 5
}
